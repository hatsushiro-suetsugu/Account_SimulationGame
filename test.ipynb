{
 "cells": [
  {
   "cell_type": "code",
   "execution_count": null,
   "metadata": {},
   "outputs": [],
   "source": [
    "import json\n",
    "\n",
    "with open(\"essential_account.json\",\"r\",encoding=\"UTF-8\") as file:\n",
    "    existed_data = json.load(file)\n",
    "    accounts = existed_data[\"essential_accounts\"]\n",
    "\n",
    "for account in accounts:\n",
    "    print(account)\n",
    "    account[\"name\"]\n",
    "\n",
    "\n"
   ]
  },
  {
   "cell_type": "code",
   "execution_count": null,
   "metadata": {},
   "outputs": [
    {
     "ename": "AttributeError",
     "evalue": "partially initialized module 'scripts.player' has no attribute 'GameMaster' (most likely due to a circular import)",
     "output_type": "error",
     "traceback": [
      "\u001b[1;31m---------------------------------------------------------------------------\u001b[0m",
      "\u001b[1;31mAttributeError\u001b[0m                            Traceback (most recent call last)",
      "Cell \u001b[1;32mIn[2], line 3\u001b[0m\n\u001b[0;32m      1\u001b[0m \u001b[38;5;28;01mimport\u001b[39;00m \u001b[38;5;21;01mpandas\u001b[39;00m \u001b[38;5;28;01mas\u001b[39;00m \u001b[38;5;21;01mpd\u001b[39;00m \n\u001b[1;32m----> 3\u001b[0m \u001b[38;5;28;01mfrom\u001b[39;00m \u001b[38;5;21;01mscripts\u001b[39;00m \u001b[38;5;28;01mimport\u001b[39;00m GameMaster, Player\n\u001b[0;32m      5\u001b[0m game_master \u001b[38;5;241m=\u001b[39m GameMaster()\n\u001b[0;32m      6\u001b[0m player1 \u001b[38;5;241m=\u001b[39m Player(\u001b[38;5;124m\"\u001b[39m\u001b[38;5;124mplayer1\u001b[39m\u001b[38;5;124m\"\u001b[39m,game_master)\n",
      "File \u001b[1;32mc:\\Users\\hacch\\gitProject\\Account_SimulationGame\\scripts\\__init__.py:2\u001b[0m\n\u001b[0;32m      1\u001b[0m \u001b[38;5;124;03m\"\"\"会計シミュレーションゲーム\"\"\"\u001b[39;00m\n\u001b[1;32m----> 2\u001b[0m \u001b[38;5;28;01mfrom\u001b[39;00m \u001b[38;5;21;01m.\u001b[39;00m\u001b[38;5;21;01mplayer\u001b[39;00m \u001b[38;5;28;01mimport\u001b[39;00m GameMaster, Player\n",
      "File \u001b[1;32mc:\\Users\\hacch\\gitProject\\Account_SimulationGame\\scripts\\player.py:22\u001b[0m\n\u001b[0;32m      7\u001b[0m \u001b[38;5;28;01mfrom\u001b[39;00m \u001b[38;5;21;01msqlalchemy\u001b[39;00m \u001b[38;5;28;01mimport\u001b[39;00m (\n\u001b[0;32m      8\u001b[0m     create_engine, \n\u001b[0;32m      9\u001b[0m     Column, \n\u001b[1;32m   (...)\u001b[0m\n\u001b[0;32m     14\u001b[0m     ForeignKey\n\u001b[0;32m     15\u001b[0m )\n\u001b[0;32m     16\u001b[0m \u001b[38;5;28;01mfrom\u001b[39;00m \u001b[38;5;21;01msqlalchemy\u001b[39;00m\u001b[38;5;21;01m.\u001b[39;00m\u001b[38;5;21;01morm\u001b[39;00m \u001b[38;5;28;01mimport\u001b[39;00m (\n\u001b[0;32m     17\u001b[0m     declarative_base, \n\u001b[0;32m     18\u001b[0m     sessionmaker,\n\u001b[0;32m     19\u001b[0m     relationship\n\u001b[0;32m     20\u001b[0m )\n\u001b[1;32m---> 22\u001b[0m \u001b[38;5;28;01mfrom\u001b[39;00m \u001b[38;5;21;01mscripts\u001b[39;00m \u001b[38;5;28;01mimport\u001b[39;00m (\n\u001b[0;32m     23\u001b[0m     asset,\n\u001b[0;32m     24\u001b[0m     ledger,\n\u001b[0;32m     25\u001b[0m     manager\n\u001b[0;32m     26\u001b[0m     )\n\u001b[0;32m     28\u001b[0m \u001b[38;5;28;01mclass\u001b[39;00m \u001b[38;5;21;01mGameMaster\u001b[39;00m:\n\u001b[0;32m     29\u001b[0m \u001b[38;5;250m    \u001b[39m\u001b[38;5;124;03m\"\"\"ゲームマスタークラス\u001b[39;00m\n\u001b[0;32m     30\u001b[0m \u001b[38;5;124;03m    \"\"\"\u001b[39;00m\n",
      "File \u001b[1;32mc:\\Users\\hacch\\gitProject\\Account_SimulationGame\\scripts\\manager.py:7\u001b[0m\n\u001b[0;32m      1\u001b[0m \u001b[38;5;124;03m\"\"\"プレイヤーの各種管理クラスの記述\"\"\"\u001b[39;00m\n\u001b[0;32m      2\u001b[0m \u001b[38;5;28;01mfrom\u001b[39;00m \u001b[38;5;21;01mscripts\u001b[39;00m \u001b[38;5;28;01mimport\u001b[39;00m (\n\u001b[0;32m      3\u001b[0m     asset,\n\u001b[0;32m      4\u001b[0m     player\n\u001b[0;32m      5\u001b[0m     )\n\u001b[1;32m----> 7\u001b[0m \u001b[38;5;28;43;01mclass\u001b[39;49;00m\u001b[43m \u001b[49m\u001b[38;5;21;43;01mManager\u001b[39;49;00m\u001b[43m:\u001b[49m\n\u001b[0;32m      8\u001b[0m \u001b[38;5;250;43m    \u001b[39;49m\u001b[38;5;124;43;03m\"\"\"一般マネージャークラス\"\"\"\u001b[39;49;00m\n\u001b[0;32m      9\u001b[0m \u001b[43m    \u001b[49m\u001b[38;5;28;43;01mdef\u001b[39;49;00m\u001b[43m \u001b[49m\u001b[38;5;21;43m__init__\u001b[39;49m\u001b[43m(\u001b[49m\u001b[38;5;28;43mself\u001b[39;49m\u001b[43m,\u001b[49m\u001b[43m \u001b[49m\u001b[43mgame_master\u001b[49m\u001b[43m:\u001b[49m\u001b[43mplayer\u001b[49m\u001b[38;5;241;43m.\u001b[39;49m\u001b[43mGameMaster\u001b[49m\u001b[43m,\u001b[49m\u001b[43m \u001b[49m\u001b[43mowner_player\u001b[49m\u001b[43m:\u001b[49m\u001b[43mplayer\u001b[49m\u001b[38;5;241;43m.\u001b[39;49m\u001b[43mPlayer\u001b[49m\u001b[43m)\u001b[49m\u001b[43m:\u001b[49m\n",
      "File \u001b[1;32mc:\\Users\\hacch\\gitProject\\Account_SimulationGame\\scripts\\manager.py:9\u001b[0m, in \u001b[0;36mManager\u001b[1;34m()\u001b[0m\n\u001b[0;32m      7\u001b[0m \u001b[38;5;28;01mclass\u001b[39;00m \u001b[38;5;21;01mManager\u001b[39;00m:\n\u001b[0;32m      8\u001b[0m \u001b[38;5;250m    \u001b[39m\u001b[38;5;124;03m\"\"\"一般マネージャークラス\"\"\"\u001b[39;00m\n\u001b[1;32m----> 9\u001b[0m     \u001b[38;5;28;01mdef\u001b[39;00m \u001b[38;5;21m__init__\u001b[39m(\u001b[38;5;28mself\u001b[39m, game_master:\u001b[43mplayer\u001b[49m\u001b[38;5;241;43m.\u001b[39;49m\u001b[43mGameMaster\u001b[49m, owner_player:player\u001b[38;5;241m.\u001b[39mPlayer):\n\u001b[0;32m     10\u001b[0m         \u001b[38;5;28mself\u001b[39m\u001b[38;5;241m.\u001b[39mgame_master \u001b[38;5;241m=\u001b[39m game_master\n\u001b[0;32m     11\u001b[0m         \u001b[38;5;28mself\u001b[39m\u001b[38;5;241m.\u001b[39mplayer \u001b[38;5;241m=\u001b[39m owner_player\n",
      "\u001b[1;31mAttributeError\u001b[0m: partially initialized module 'scripts.player' has no attribute 'GameMaster' (most likely due to a circular import)"
     ]
    }
   ],
   "source": [
    "import pandas as pd \n",
    "\n",
    "from src import GameMaster, Player\n",
    "\n",
    "game_master = GameMaster()\n",
    "player1 = Player(\"player1\",game_master)\n",
    "ledger1 = player1.ledger_manager\n",
    "product_A = game_master.construct_instance(\"inventory\",\"product_A\").get(\"ID\")\n",
    "bilding_B = game_master.construct_instance(\"building\", \"building_B\", address=\"東京都品川区荏原3-7-13\").get(\"ID\")\n",
    "asset_list = list(game_master.asset_registry.keys())\n",
    "player1.redister_product(product_A)\n",
    "player1.aquire_building(bilding_B, 2000)\n",
    "\n",
    "player1.purchase_product(product_A, 100, 150)\n",
    "player1.purchase_product(product_A, 200, 120, 15)\n",
    "\n",
    "player1.sale_product(product_A, 80)\n",
    "\n",
    "player1.purchase_product(product_A, 30, 160)\n",
    "player1.sale_product(product_A, 100, 225)\n",
    "\n",
    "player1.sale_product(product_A, 100, 210, 500)\n",
    "\n",
    "player1.perform_inventory_audit(product_A)\n",
    "\n",
    "end_1 = ledger1.execute_settlement()\n",
    "\n",
    "ledger1.display_transaction_history()\n",
    "# ledger1.display_trial_balance(end_1)\n",
    "# ledger1.display_financial_statements(end_1)\n",
    "\n",
    "df = pd.DataFrame.from_dict(end_1, orient=\"index\")\n"
   ]
  },
  {
   "cell_type": "code",
   "execution_count": null,
   "metadata": {},
   "outputs": [],
   "source": [
    "ledger1.display_financial_statements(end_1)"
   ]
  },
  {
   "cell_type": "code",
   "execution_count": null,
   "metadata": {},
   "outputs": [],
   "source": [
    "inventory_c = game_master.construct_instance(\"inventory\", \"inventory_c\")\n",
    "type(inventory_c.get(\"class\"))\n"
   ]
  },
  {
   "cell_type": "code",
   "execution_count": 7,
   "metadata": {},
   "outputs": [
    {
     "name": "stdout",
     "output_type": "stream",
     "text": [
      "資産 'building2' (ID: 245aed5f-224e-4af4-ae73-a8e3a7f2b71d, クラス: <class 'scripts.asset.Building'>) が登録されました。\n"
     ]
    }
   ],
   "source": [
    "import pandas as pd \n",
    "\n",
    "from player import *\n",
    "\n",
    "game_master = GameMaster()\n",
    "player1 = Player(\"player1\",game_master)\n",
    "ledger1 = player1.ledger_manager\n",
    "\n",
    "building_B = game_master.construct_instance(\n",
    "    asset_type=\"building\",\n",
    "    name=\"building2\",\n",
    "    value=1000000,\n",
    "    address=\"tokyo\"\n",
    "    )"
   ]
  },
  {
   "cell_type": "code",
   "execution_count": 12,
   "metadata": {},
   "outputs": [
    {
     "name": "stdout",
     "output_type": "stream",
     "text": [
      "資産 'OfficeBuilding_1' (ID: 8e8cc3c6-62bf-4b21-b965-1f928d16ae2b, クラス: <class 'scripts.asset.Building'>) が登録されました。\n",
      "資産 'OfficeBuilding_2' (ID: ff036c60-db52-4767-9f47-360b98cc2866, クラス: <class 'scripts.asset.Building'>) が登録されました。\n",
      "資産 'product_A' (ID: 44f094aa-d071-403e-9d64-dfa4dbb11352, クラス: <class 'scripts.asset.Inventory'>) が登録されました。\n",
      "資産 'product_B' (ID: 18944765-8c19-47b1-a41f-92aacbe3423a, クラス: <class 'scripts.asset.Inventory'>) が登録されました。\n",
      "OfficeBuilding_1 の所有者が Player1 に設定されました。\n",
      "Building instance type: <class 'scripts.asset.Building'>\n",
      "OfficeBuilding_2 の所有者が Player2 に設定されました。\n",
      "Building instance type: <class 'scripts.asset.Building'>\n",
      "[Player1]**商品が登録されました** 商品名：product_A\n",
      "[Player2]**商品が登録されました** 商品名：product_B\n",
      "[Player1,product_A]**売価が更新されました**　更新後：300\n",
      "[Player2,product_B]**売価が更新されました**　更新後：210\n",
      "[Player1,product_A]**売価が更新されました**　更新後：250\n",
      "\n",
      "=== 時間を365日進めます ===\n",
      "イベント記録: {'date': '2024-12-31', 'event': '365日進行', 'details': {}}\n",
      "OfficeBuilding_1 の減価償却が適用されました: 25000 減価償却累計額: 25000 残存価額: 975000\n",
      "[Player1]時間経過が処理されました (365日)。\n",
      "OfficeBuilding_2 の減価償却が適用されました: 37500 減価償却累計額: 37500 残存価額: 1462500\n",
      "[Player2]時間経過が処理されました (365日)。\n",
      "365日間時間が進行しました。現在日時: 2024-12-31\n"
     ]
    }
   ],
   "source": [
    "from src import *\n",
    " # ゲームマスターを初期化\n",
    "game_master = GameMaster()\n",
    "\n",
    "# プレイヤーの初期化・登録\n",
    "player1 = Player(name=\"Player1\", game_master=game_master, initial_cash= 2000000)\n",
    "player2 = Player(name=\"Player2\", game_master=game_master, initial_cash= 2000000)\n",
    "game_master.players.append(player1)\n",
    "game_master.players.append(player2)\n",
    "\n",
    "# 資産の生成と登録\n",
    "building_1 = game_master.construct_instance(\n",
    "    asset_type=\"building\",\n",
    "    name=\"OfficeBuilding_1\",\n",
    "    value=1000000,\n",
    "    address=\"東京都新宿区早稲田鶴巻町\"\n",
    ")[\"ID\"]\n",
    "building_2 = game_master.construct_instance(\n",
    "    asset_type=\"building\",\n",
    "    name=\"OfficeBuilding_2\",\n",
    "    value=1500000,\n",
    "    address=\"東京都品川区荏原\"\n",
    ")[\"ID\"]\n",
    "product_A = game_master.construct_instance(\n",
    "    asset_type=\"inventory\",\n",
    "    name=\"product_A\"\n",
    ")[\"ID\"]\n",
    "product_B = game_master.construct_instance(\n",
    "    asset_type=\"inventory\",\n",
    "    name=\"product_B\"\n",
    ")[\"ID\"]\n",
    "\n",
    "# プレイヤーに資産を取得させる\n",
    "player1.aquire_building(asset_id=building_1, value=1000000)\n",
    "player2.aquire_building(asset_id=building_2, value=1500000)\n",
    "\n",
    "# プレイヤーに商品を登録させる\n",
    "player1.redister_product(product_id=product_A)\n",
    "player2.redister_product(product_id=product_B)\n",
    "\n",
    "# 商品を仕入れ、売り上げる\n",
    "player1.purchase_product(product_id=product_A, quantity= 500, price= 120)\n",
    "player2.purchase_product(product_id=product_B, quantity= 600, price= 80)\n",
    "\n",
    "player1.sale_product(product_id=product_A, quantity= 320, sales_price= 300)\n",
    "player2.sale_product(product_id=product_B, quantity= 500, sales_price= 210)\n",
    "\n",
    "player1.sale_product(product_id=product_A, quantity= 150, sales_price =250)\n",
    "player2.sale_product(product_id=product_B, quantity= 80) # 売価の更新なし\n",
    "\n",
    "# ゲーム内時間を90日進める\n",
    "print(\"\\n=== 時間を365日進めます ===\")\n",
    "game_master.advance_time(days=365)\n"
   ]
  },
  {
   "cell_type": "code",
   "execution_count": 13,
   "metadata": {},
   "outputs": [
    {
     "name": "stdout",
     "output_type": "stream",
     "text": [
      "\n",
      "=== 資産の状態 ===\n",
      "プレイヤー名: Player1, 資産名: OfficeBuilding_1, 帳簿価額: 975000, 累計減価償却額: 25000\n",
      "プレイヤー名: Player1, 資産名: product_A, 帳簿価額: 3600\n",
      "プレイヤー名: Player2, 資産名: OfficeBuilding_2, 帳簿価額: 1462500, 累計減価償却額: 37500\n",
      "プレイヤー名: Player2, 資産名: product_B, 帳簿価額: 1600\n"
     ]
    }
   ],
   "source": [
    "# 資産の状態を表示\n",
    "print(\"\\n=== 資産の状態 ===\")\n",
    "for player in game_master.players:\n",
    "    for asset_info in player.portfolio:\n",
    "        asset_obj = game_master.get_asset_by_id(asset_info[\"ID\"])\n",
    "        if isinstance(asset_obj, asset.Tangible):\n",
    "            print(f\"プレイヤー名: {player.name}, 資産名: {asset_obj.name}, 帳簿価額: {int(asset_obj.value)}, 累計減価償却額: {int(asset_obj.accumulated_depreciation)}\")\n",
    "        if isinstance(asset_obj, asset.Inventory):\n",
    "            print(f\"プレイヤー名: {player.name}, 資産名: {asset_obj.name}, 帳簿価額: {int(asset_obj.value)}\")\n",
    "        "
   ]
  },
  {
   "cell_type": "code",
   "execution_count": null,
   "metadata": {},
   "outputs": [],
   "source": [
    "# 勘定元帳の記録を確認\n",
    "print(\"\\n=== プレイヤー1の勘定元帳 ===\")\n",
    "player1.ledger_manager.display_transaction_history()"
   ]
  },
  {
   "cell_type": "code",
   "execution_count": null,
   "metadata": {},
   "outputs": [],
   "source": [
    "# 勘定元帳の記録を確認\n",
    "print(\"\\n=== プレイヤー2の勘定元帳 ===\")\n",
    "player2.ledger_manager.display_transaction_history()"
   ]
  },
  {
   "cell_type": "code",
   "execution_count": null,
   "metadata": {},
   "outputs": [],
   "source": [
    "end_1 = [player1.ends[0],player2.ends[0]]\n",
    "player1.ledger_manager.display_financial_statements(end_1[0])"
   ]
  },
  {
   "cell_type": "code",
   "execution_count": null,
   "metadata": {},
   "outputs": [],
   "source": [
    "player2.ledger_manager.display_financial_statements(end_1[1])"
   ]
  },
  {
   "cell_type": "code",
   "execution_count": null,
   "metadata": {},
   "outputs": [],
   "source": [
    "from src.player import *\n",
    "\n",
    "# ゲームマスターを初期化\n",
    "game_master = GameMaster()\n",
    "\n",
    "# プレイヤーを作成して登録\n",
    "player = Player(name=\"Player1\", game_master=game_master)\n",
    "game_master.players.append(player)\n",
    "\n",
    "# 資産の生成と登録\n",
    "building_asset = game_master.construct_instance(\n",
    "    asset_type=\"building\",\n",
    "    name=\"Office Building\",\n",
    "    value=1000000,\n",
    "    address=\"Downtown City\"\n",
    ")\n",
    "\n",
    "# プレイヤーに建物資産を取得させる\n",
    "player.aquire_building(asset_id=building_asset[\"ID\"], value=1000000)\n",
    "\n",
    "# ゲーム内時間を進める\n",
    "print(\"\\n=== 90日進行 ===\")\n",
    "game_master.advance_time(days=90)\n",
    "\n",
    "# 資産の確認\n",
    "print(\"\\n=== プレイヤーのポートフォリオ ===\")\n",
    "for asset_info in player.portfolio:\n",
    "    asset = asset_info.get(\"instance\")\n",
    "    print(f\"資産名: {asset.name}, 帳簿価額: {int(asset.value)}, 累計減価償却額: {int(asset.accumulated_depreciation)}\")\n",
    "\n",
    "# 勘定元帳の記録を確認\n",
    "print(\"\\n=== プレイヤーの勘定元帳 ===\")\n",
    "player.ledger_manager.display_transaction_history()"
   ]
  },
  {
   "cell_type": "code",
   "execution_count": 22,
   "metadata": {},
   "outputs": [
    {
     "name": "stdout",
     "output_type": "stream",
     "text": [
      "2025-01-08 22:14:01,877 INFO sqlalchemy.engine.Engine BEGIN (implicit)\n",
      "2025-01-08 22:14:01,878 INFO sqlalchemy.engine.Engine PRAGMA main.table_info(\"account\")\n",
      "2025-01-08 22:14:01,879 INFO sqlalchemy.engine.Engine [raw sql] ()\n",
      "2025-01-08 22:14:01,881 INFO sqlalchemy.engine.Engine \n",
      "DROP TABLE account\n",
      "2025-01-08 22:14:01,881 INFO sqlalchemy.engine.Engine [no key 0.00091s] ()\n",
      "2025-01-08 22:14:01,925 INFO sqlalchemy.engine.Engine COMMIT\n",
      "2025-01-08 22:14:01,928 INFO sqlalchemy.engine.Engine BEGIN (implicit)\n",
      "2025-01-08 22:14:01,929 INFO sqlalchemy.engine.Engine SELECT account.id AS account_id, account.name AS account_name, account.statement AS account_statement, account.category AS account_category \n",
      "FROM account\n",
      "2025-01-08 22:14:01,930 INFO sqlalchemy.engine.Engine [generated in 0.00060s] ()\n",
      "2025-01-08 22:14:01,932 INFO sqlalchemy.engine.Engine BEGIN (implicit)\n",
      "2025-01-08 22:14:01,932 INFO sqlalchemy.engine.Engine PRAGMA main.table_info(\"account\")\n",
      "2025-01-08 22:14:01,932 INFO sqlalchemy.engine.Engine [raw sql] ()\n",
      "2025-01-08 22:14:01,937 INFO sqlalchemy.engine.Engine PRAGMA temp.table_info(\"account\")\n",
      "2025-01-08 22:14:01,937 INFO sqlalchemy.engine.Engine [raw sql] ()\n",
      "2025-01-08 22:14:01,937 INFO sqlalchemy.engine.Engine \n",
      "CREATE TABLE account (\n",
      "\tid INTEGER NOT NULL, \n",
      "\tname VARCHAR(63), \n",
      "\tstatement VARCHAR(63), \n",
      "\tcategory VARCHAR(63), \n",
      "\tPRIMARY KEY (id), \n",
      "\tUNIQUE (name)\n",
      ")\n",
      "\n",
      "\n",
      "2025-01-08 22:14:01,937 INFO sqlalchemy.engine.Engine [no key 0.00098s] ()\n",
      "2025-01-08 22:14:01,968 INFO sqlalchemy.engine.Engine COMMIT\n",
      "2025-01-08 22:14:01,974 INFO sqlalchemy.engine.Engine INSERT INTO account (name, statement, category) VALUES (?, ?, ?) RETURNING id\n",
      "2025-01-08 22:14:01,975 INFO sqlalchemy.engine.Engine [generated in 0.00012s (insertmanyvalues) 1/15 (ordered; batch not supported)] ('現金', '貸借対照表', '資産')\n",
      "2025-01-08 22:14:01,985 INFO sqlalchemy.engine.Engine INSERT INTO account (name, statement, category) VALUES (?, ?, ?) RETURNING id\n",
      "2025-01-08 22:14:01,987 INFO sqlalchemy.engine.Engine [insertmanyvalues 2/15 (ordered; batch not supported)] ('建物', '貸借対照表', '資産')\n",
      "2025-01-08 22:14:01,987 INFO sqlalchemy.engine.Engine INSERT INTO account (name, statement, category) VALUES (?, ?, ?) RETURNING id\n",
      "2025-01-08 22:14:01,987 INFO sqlalchemy.engine.Engine [insertmanyvalues 3/15 (ordered; batch not supported)] ('減価償却費', '損益計算書', '費用')\n",
      "2025-01-08 22:14:01,987 INFO sqlalchemy.engine.Engine INSERT INTO account (name, statement, category) VALUES (?, ?, ?) RETURNING id\n",
      "2025-01-08 22:14:01,987 INFO sqlalchemy.engine.Engine [insertmanyvalues 4/15 (ordered; batch not supported)] ('減価償却累計額', '貸借対照表', '資産')\n",
      "2025-01-08 22:14:01,987 INFO sqlalchemy.engine.Engine INSERT INTO account (name, statement, category) VALUES (?, ?, ?) RETURNING id\n",
      "2025-01-08 22:14:01,987 INFO sqlalchemy.engine.Engine [insertmanyvalues 5/15 (ordered; batch not supported)] ('固定資産売却益', '損益計算書', '収益')\n",
      "2025-01-08 22:14:01,992 INFO sqlalchemy.engine.Engine INSERT INTO account (name, statement, category) VALUES (?, ?, ?) RETURNING id\n",
      "2025-01-08 22:14:01,992 INFO sqlalchemy.engine.Engine [insertmanyvalues 6/15 (ordered; batch not supported)] ('固定資産売却損', '損益計算書', '費用')\n",
      "2025-01-08 22:14:01,992 INFO sqlalchemy.engine.Engine INSERT INTO account (name, statement, category) VALUES (?, ?, ?) RETURNING id\n",
      "2025-01-08 22:14:01,993 INFO sqlalchemy.engine.Engine [insertmanyvalues 7/15 (ordered; batch not supported)] ('売上高', '損益計算書', '収益')\n",
      "2025-01-08 22:14:01,993 INFO sqlalchemy.engine.Engine INSERT INTO account (name, statement, category) VALUES (?, ?, ?) RETURNING id\n",
      "2025-01-08 22:14:01,994 INFO sqlalchemy.engine.Engine [insertmanyvalues 8/15 (ordered; batch not supported)] ('仕入', '損益計算書', '費用')\n",
      "2025-01-08 22:14:01,994 INFO sqlalchemy.engine.Engine INSERT INTO account (name, statement, category) VALUES (?, ?, ?) RETURNING id\n",
      "2025-01-08 22:14:01,995 INFO sqlalchemy.engine.Engine [insertmanyvalues 9/15 (ordered; batch not supported)] ('棚卸資産', '貸借対照表', '資産')\n",
      "2025-01-08 22:14:01,995 INFO sqlalchemy.engine.Engine INSERT INTO account (name, statement, category) VALUES (?, ?, ?) RETURNING id\n",
      "2025-01-08 22:14:01,996 INFO sqlalchemy.engine.Engine [insertmanyvalues 10/15 (ordered; batch not supported)] ('売上原価', '損益計算書', '費用')\n",
      "2025-01-08 22:14:01,996 INFO sqlalchemy.engine.Engine INSERT INTO account (name, statement, category) VALUES (?, ?, ?) RETURNING id\n",
      "2025-01-08 22:14:01,997 INFO sqlalchemy.engine.Engine [insertmanyvalues 11/15 (ordered; batch not supported)] ('棚卸減耗', '損益計算書', '費用')\n",
      "2025-01-08 22:14:01,998 INFO sqlalchemy.engine.Engine INSERT INTO account (name, statement, category) VALUES (?, ?, ?) RETURNING id\n",
      "2025-01-08 22:14:01,999 INFO sqlalchemy.engine.Engine [insertmanyvalues 12/15 (ordered; batch not supported)] ('商品評価損', '損益計算書', '費用')\n",
      "2025-01-08 22:14:01,999 INFO sqlalchemy.engine.Engine INSERT INTO account (name, statement, category) VALUES (?, ?, ?) RETURNING id\n",
      "2025-01-08 22:14:01,999 INFO sqlalchemy.engine.Engine [insertmanyvalues 13/15 (ordered; batch not supported)] ('借入金', '貸借対照表', '負債')\n",
      "2025-01-08 22:14:01,999 INFO sqlalchemy.engine.Engine INSERT INTO account (name, statement, category) VALUES (?, ?, ?) RETURNING id\n",
      "2025-01-08 22:14:01,999 INFO sqlalchemy.engine.Engine [insertmanyvalues 14/15 (ordered; batch not supported)] ('利益剰余金', '貸借対照表', '純資産')\n",
      "2025-01-08 22:14:01,999 INFO sqlalchemy.engine.Engine INSERT INTO account (name, statement, category) VALUES (?, ?, ?) RETURNING id\n",
      "2025-01-08 22:14:01,999 INFO sqlalchemy.engine.Engine [insertmanyvalues 15/15 (ordered; batch not supported)] ('資本金', '貸借対照表', '純資産')\n",
      "2025-01-08 22:14:01,999 INFO sqlalchemy.engine.Engine COMMIT\n"
     ]
    },
    {
     "name": "stderr",
     "output_type": "stream",
     "text": [
      "C:\\Users\\hacch\\AppData\\Local\\Temp\\ipykernel_24572\\3783427201.py:9: MovedIn20Warning: The ``declarative_base()`` function is now available as sqlalchemy.orm.declarative_base(). (deprecated since: 2.0) (Background on SQLAlchemy 2.0 at: https://sqlalche.me/e/b8d9)\n",
      "  Base = declarative_base()\n"
     ]
    }
   ],
   "source": [
    "import sqlalchemy    \n",
    "from sqlalchemy import create_engine\n",
    "from sqlalchemy.orm import sessionmaker\n",
    "from sqlalchemy.ext.declarative import declarative_base\n",
    "from sqlalchemy import Column, Integer, String\n",
    "\n",
    "import json\n",
    "\n",
    "Base = declarative_base()\n",
    "Engine = create_engine(\"sqlite:///test.sqlite3\",\n",
    "                       echo=True)\n",
    "Session = sessionmaker(bind=Engine)\n",
    "session = Session()\n",
    "\n",
    "class account(Base):\n",
    "    __tablename__ = \"account\"\n",
    "    id = Column(Integer, primary_key=True)\n",
    "    name = Column(String(63), unique=True)\n",
    "    statement = Column(String(63))\n",
    "    category = Column(String(63))\n",
    "    \n",
    "    \n",
    "# Drop the existing table if it exists\n",
    "try:\n",
    "    Base.metadata.drop_all(Engine)\n",
    "    existed_data = session.query(account).all()\n",
    "    for row in existed_data:\n",
    "        session.delete(row)\n",
    "except:\n",
    "    pass\n",
    "\n",
    "# Create the table with the new schema\n",
    "Base.metadata.create_all(Engine)\n",
    "\n",
    "with open(\"database/essential_account.json\",\"r\",encoding=\"UTF-8\") as file:\n",
    "    data = json.load(file)\n",
    "    aaa = data[\"essential_accounts\"]\n",
    "    # Filter out duplicates\n",
    "    unique_accounts = {item[\"name\"]: item for item in aaa}.values()\n",
    "    session.add_all([account(name=item[\"name\"], statement=item[\"statement\"], category=item[\"category\"]) for item in unique_accounts])\n",
    "session.commit()\n",
    "\n",
    "\n",
    "session.close()\n",
    "\n"
   ]
  }
 ],
 "metadata": {
  "kernelspec": {
   "display_name": ".venv",
   "language": "python",
   "name": "python3"
  },
  "language_info": {
   "codemirror_mode": {
    "name": "ipython",
    "version": 3
   },
   "file_extension": ".py",
   "mimetype": "text/x-python",
   "name": "python",
   "nbconvert_exporter": "python",
   "pygments_lexer": "ipython3",
   "version": "3.12.3"
  }
 },
 "nbformat": 4,
 "nbformat_minor": 2
}
