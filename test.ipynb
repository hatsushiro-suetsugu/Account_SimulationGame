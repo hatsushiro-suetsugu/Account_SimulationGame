{
 "cells": [
  {
   "cell_type": "code",
   "execution_count": null,
   "metadata": {},
   "outputs": [],
   "source": [
    "import json\n",
    "\n",
    "with open(\"essential_account.json\",\"r\",encoding=\"UTF-8\") as file:\n",
    "    data = json.load(file)\n",
    "    accounts = data[\"essential_accounts\"]\n",
    "\n",
    "for account in accounts:\n",
    "    print(account)\n",
    "    account[\"name\"]\n",
    "\n",
    "\n"
   ]
  },
  {
   "cell_type": "code",
   "execution_count": null,
   "metadata": {},
   "outputs": [],
   "source": [
    "import pandas as pd\n",
    "\n",
    "from player import *\n",
    "# サンプルコード\n",
    "game_master = GameMaster()\n",
    "player1 = Player(\"player1\",game_master)\n",
    "ledger1 = player1.ledger_manager\n",
    "player2 = Player(\"player2\",game_master)\n",
    "\n",
    "product_A = player1.redister_product(name=\"Product_A\")\n",
    "\n",
    "player1.purchase_product(product_A, 100, 150)\n",
    "player1.purchase_product(product_A, 200, 120, 15)\n",
    "player1.sale_product(product_A, 80, 200)\n",
    "player1.purchase_product(product_A, 30, 160)\n",
    "player1.sale_product(product_A, 100, 225)\n",
    "player1.sale_product(product_A, 100, 210, 500)\n",
    "\n",
    "player1.perform_inventory_audit(product_A, 5)\n",
    "\n",
    "end_1 = ledger1.execute_settlement()\n",
    "\n",
    "ledger1.display_transaction_history()\n",
    "ledger1.display_trial_balance(end_1)\n",
    "ledger1.display_financial_statements(end_1)\n",
    "\n",
    "df = pd.DataFrame.from_dict(end_1, orient=\"index\")\n",
    "df"
   ]
  },
  {
   "cell_type": "code",
   "execution_count": null,
   "metadata": {},
   "outputs": [],
   "source": [
    "import pandas as pd \n",
    "\n",
    "from player import *\n",
    "\n",
    "game_master = GameMaster()\n",
    "player1 = Player(\"player1\",game_master)\n",
    "ledger1 = player1.ledger_manager\n",
    "product_A = game_master.construct_instance(\"inventory\",\"product_A\")\n",
    "asset_list = list(game_master.asset_registry.keys())\n",
    "product_A = product_A.get(\"instance\")\n",
    "player1.redister_product(asset_list[0])\n",
    "\n",
    "player1.purchase_product(product_A, 100, 150)\n",
    "player1.purchase_product(product_A, 200, 120, 15)\n",
    "\n",
    "player1.sale_product(product_A, 80, 200)\n",
    "\n",
    "player1.purchase_product(product_A, 30, 160)\n",
    "player1.sale_product(product_A, 100, 225)\n",
    "player1.sale_product(product_A, 100, 210, 500)\n",
    "\n",
    "player1.perform_inventory_audit(product_A, 5)\n",
    "\n",
    "end_1 = ledger1.execute_settlement()\n",
    "\n",
    "ledger1.display_transaction_history()\n",
    "ledger1.display_trial_balance(end_1)\n",
    "ledger1.display_financial_statements(end_1)\n",
    "\n",
    "df = pd.DataFrame.from_dict(end_1, orient=\"index\")\n"
   ]
  },
  {
   "cell_type": "code",
   "execution_count": null,
   "metadata": {},
   "outputs": [],
   "source": [
    "ledger1.display_financial_statements(end_1)"
   ]
  },
  {
   "cell_type": "code",
   "execution_count": null,
   "metadata": {},
   "outputs": [],
   "source": [
    "import pandas as pd \n",
    "\n",
    "from player import *\n",
    "\n",
    "game_master = GameMaster()\n",
    "player1 = Player(\"player1\",game_master)\n",
    "ledger1 = player1.ledger_manager\n",
    "\n",
    "building_B = game_master.construct_instance(\"building\")"
   ]
  },
  {
   "cell_type": "code",
   "execution_count": null,
   "metadata": {},
   "outputs": [],
   "source": [
    "from asset import *\n",
    "\n",
    "building_A = Building(\"building_A\", 5000, \"player1\", \"東京都新宿区\")\n",
    "building_A.apply_depreciation()"
   ]
  }
 ],
 "metadata": {
  "kernelspec": {
   "display_name": "Python 3",
   "language": "python",
   "name": "python3"
  },
  "language_info": {
   "codemirror_mode": {
    "name": "ipython",
    "version": 3
   },
   "file_extension": ".py",
   "mimetype": "text/x-python",
   "name": "python",
   "nbconvert_exporter": "python",
   "pygments_lexer": "ipython3",
   "version": "3.12.8"
  }
 },
 "nbformat": 4,
 "nbformat_minor": 2
}
