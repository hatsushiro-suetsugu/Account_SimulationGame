{
 "cells": [
  {
   "cell_type": "code",
   "execution_count": 8,
   "metadata": {},
   "outputs": [
    {
     "name": "stdout",
     "output_type": "stream",
     "text": [
      "{'name': '現金', 'category': '資産', 'sub_category': '流動資産'}\n",
      "{'name': '建物', 'category': '資産', 'sub_category': '固定資産'}\n",
      "{'name': '減価償却費', 'category': '費用', 'sub_category': '営業費用'}\n",
      "{'name': '減価償却累計額', 'category': '資産', 'sub_category': '固定資産'}\n",
      "{'name': '固定資産売却益', 'category': '収益', 'sub_category': '営業外収益'}\n",
      "{'name': '固定資産売却損', 'category': '費用', 'sub_category': '営業外費用'}\n",
      "{'name': '売上高', 'category': '収益', 'sub_category': '営業収益'}\n",
      "{'name': '仕入', 'category': '費用', 'sub_category': '営業費用'}\n",
      "{'name': '棚卸資産', 'category': '資産', 'sub_category': '流動資産'}\n",
      "{'name': '売上原価', 'category': '費用', 'sub_category': '営業費用'}\n",
      "{'name': '借入金', 'category': '負債', 'sub_category': '固定負債'}\n",
      "{'name': '借入金', 'category': '負債', 'sub_category': '流動負債'}\n",
      "{'name': '利益剰余金', 'category': '純資産', 'sub_category': '剰余金'}\n",
      "{'name': '資本金', 'category': '純資産', 'sub_category': '資本金等'}\n"
     ]
    }
   ],
   "source": [
    "import json\n",
    "\n",
    "with open(\"essential_account.json\",\"r\",encoding=\"UTF-8\") as file:\n",
    "    data = json.load(file)\n",
    "    accounts = data[\"essential_accounts\"]\n",
    "\n",
    "for account in accounts:\n",
    "    print(account)\n",
    "    account[\"name\"]\n",
    "\n",
    "\n"
   ]
  },
  {
   "cell_type": "code",
   "execution_count": 4,
   "metadata": {},
   "outputs": [
    {
     "ename": "Warning",
     "evalue": "warning!",
     "output_type": "error",
     "traceback": [
      "\u001b[1;31m---------------------------------------------------------------------------\u001b[0m",
      "\u001b[1;31mWarning\u001b[0m                                   Traceback (most recent call last)",
      "Cell \u001b[1;32mIn[4], line 1\u001b[0m\n\u001b[1;32m----> 1\u001b[0m \u001b[38;5;28;01mraise\u001b[39;00m \u001b[38;5;167;01mWarning\u001b[39;00m(\u001b[38;5;124m\"\u001b[39m\u001b[38;5;124mwarning!\u001b[39m\u001b[38;5;124m\"\u001b[39m)\n",
      "\u001b[1;31mWarning\u001b[0m: warning!"
     ]
    }
   ],
   "source": [
    "raise Warning(\"warning!\")"
   ]
  }
 ],
 "metadata": {
  "kernelspec": {
   "display_name": "Python 3",
   "language": "python",
   "name": "python3"
  },
  "language_info": {
   "codemirror_mode": {
    "name": "ipython",
    "version": 3
   },
   "file_extension": ".py",
   "mimetype": "text/x-python",
   "name": "python",
   "nbconvert_exporter": "python",
   "pygments_lexer": "ipython3",
   "version": "3.12.8"
  }
 },
 "nbformat": 4,
 "nbformat_minor": 2
}
