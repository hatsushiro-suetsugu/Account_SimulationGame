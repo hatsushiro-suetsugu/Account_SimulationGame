{
 "cells": [
  {
   "cell_type": "code",
   "execution_count": null,
   "metadata": {},
   "outputs": [],
   "source": [
    "import json\n",
    "\n",
    "with open(\"essential_account.json\",\"r\",encoding=\"UTF-8\") as file:\n",
    "    data = json.load(file)\n",
    "    accounts = data[\"essential_accounts\"]\n",
    "\n",
    "for account in accounts:\n",
    "    print(account)\n",
    "    account[\"name\"]\n",
    "\n",
    "\n"
   ]
  },
  {
   "cell_type": "code",
   "execution_count": null,
   "metadata": {},
   "outputs": [],
   "source": [
    "import pandas as pd \n",
    "\n",
    "from scripts.player import *\n",
    "\n",
    "game_master = GameMaster()\n",
    "player1 = Player(\"player1\",game_master)\n",
    "ledger1 = player1.ledger_manager\n",
    "product_A = game_master.construct_instance(\"inventory\",\"product_A\").get(\"ID\")\n",
    "bilding_B = game_master.construct_instance(\"building\", \"building_B\", address=\"東京都品川区荏原3-7-13\").get(\"ID\")\n",
    "asset_list = list(game_master.asset_registry.keys())\n",
    "player1.redister_product(product_A)\n",
    "player1.aquire_building(bilding_B, 2000)\n",
    "\n",
    "player1.purchase_product(product_A, 100, 150)\n",
    "player1.purchase_product(product_A, 200, 120, 15)\n",
    "\n",
    "player1.sale_product(product_A, 80)\n",
    "\n",
    "player1.purchase_product(product_A, 30, 160)\n",
    "player1.sale_product(product_A, 100, 225)\n",
    "\n",
    "player1.sale_product(product_A, 100, 210, 500)\n",
    "\n",
    "player1.perform_inventory_audit(product_A)\n",
    "\n",
    "end_1 = ledger1.execute_settlement()\n",
    "\n",
    "ledger1.display_transaction_history()\n",
    "# ledger1.display_trial_balance(end_1)\n",
    "# ledger1.display_financial_statements(end_1)\n",
    "\n",
    "df = pd.DataFrame.from_dict(end_1, orient=\"index\")\n"
   ]
  },
  {
   "cell_type": "code",
   "execution_count": null,
   "metadata": {},
   "outputs": [],
   "source": [
    "ledger1.display_financial_statements(end_1)"
   ]
  },
  {
   "cell_type": "code",
   "execution_count": null,
   "metadata": {},
   "outputs": [],
   "source": [
    "inventory_c = game_master.construct_instance(\"inventory\", \"inventory_c\")\n",
    "type(inventory_c.get(\"class\"))\n"
   ]
  },
  {
   "cell_type": "code",
   "execution_count": null,
   "metadata": {},
   "outputs": [],
   "source": [
    "import pandas as pd \n",
    "\n",
    "from scripts.player import *\n",
    "\n",
    "game_master = GameMaster()\n",
    "player1 = Player(\"player1\",game_master)\n",
    "ledger1 = player1.ledger_manager\n",
    "\n",
    "building_B = game_master.construct_instance(\"building\")"
   ]
  },
  {
   "cell_type": "code",
   "execution_count": null,
   "metadata": {},
   "outputs": [],
   "source": [
    "from scripts.player import *\n",
    " # ゲームマスターを初期化\n",
    "game_master = GameMaster()\n",
    "\n",
    "# プレイヤーを作成して登録\n",
    "player = Player(name=\"Player1\", game_master=game_master)\n",
    "game_master.players.append(player)\n",
    "\n",
    "# 資産の生成と登録\n",
    "tangible_asset = game_master.construct_instance(\n",
    "    asset_type=\"building\",\n",
    "    name=\"OfficeBuilding\",\n",
    "    value=1000000,\n",
    "    address=\"Central Tokyo\"\n",
    ")[\"ID\"]\n",
    "\n",
    "# プレイヤーに資産を取得させる\n",
    "player.aquire_building(asset_id=tangible_asset, value=1000000)\n",
    "\n",
    "# ゲーム内時間を90日進める\n",
    "print(\"\\n=== 時間を90日進めます ===\")\n",
    "game_master.advance_time(days=90)\n",
    "\n",
    "# 資産の状態を表示\n",
    "print(\"\\n=== 資産の状態 ===\")\n",
    "for asset_info in player.portfolio:\n",
    "    asset = game_master.get_asset_by_id(asset_info[\"ID\"])[\"instance\"]\n",
    "    print(f\"資産名: {asset.name}, 帳簿価額: {int(asset.value)}, 累計減価償却額: {int(asset.accumulated_depreciation)}\")\n",
    "\n",
    "# 勘定元帳の記録を確認\n",
    "print(\"\\n=== プレイヤーの勘定元帳 ===\")\n",
    "player.ledger_manager.display_transaction_history()"
   ]
  },
  {
   "cell_type": "code",
   "execution_count": null,
   "metadata": {},
   "outputs": [],
   "source": [
    "from scripts.asset import *\n",
    "b = Building(name=\"Test Building\", value=100000, owner=None, address=\"Test Address\")\n",
    "print(isinstance(b, Tangible))  # True を期待"
   ]
  },
  {
   "cell_type": "code",
   "execution_count": null,
   "metadata": {},
   "outputs": [],
   "source": [
    "import scripts.asset\n",
    "print(asset.__file__)\n"
   ]
  },
  {
   "cell_type": "code",
   "execution_count": 1,
   "metadata": {},
   "outputs": [
    {
     "name": "stdout",
     "output_type": "stream",
     "text": [
      "資産 'Office Building' (ID: 4e475772-f60e-4d71-b98e-c4ece8bb4e6e, クラス: <class 'asset.Building'>) が登録されました。\n",
      "Office Building の所有者が Player1 に設定されました。\n",
      "Building instance type: <class 'asset.Building'>\n",
      "\n",
      "=== 90日進行 ===\n",
      "イベント記録: {'date': '2024-03-31', 'event': '90日進行', 'details': {}}\n",
      "Office Building の減価償却が適用されました: 6164 減価償却累計額: 6164 残存価額: 993836\n",
      "Office Building の時間経過が処理されました (90日)。\n",
      "90日間時間が進行しました。現在日時: 2024-03-31\n",
      "\n",
      "=== プレイヤーのポートフォリオ ===\n",
      "資産名: Office Building, 帳簿価額: 993836, 累計減価償却額: 6164\n",
      "\n",
      "=== プレイヤーの勘定元帳 ===\n",
      "\n",
      "\n",
      "取引一覧:\n",
      "\n",
      "  [ゲーム内時間]\n",
      "    仕訳: 現金: 5000, 資本金: -5000\n",
      "    摘要: Initial capital\n",
      "  [ゲーム内時間]\n",
      "    仕訳: 建物: 1000000, 現金: -1000000\n",
      "    摘要: 建物の取得　建物名：Office Building\n",
      "  [ゲーム内時間]\n",
      "    仕訳: 減価償却費: 6164, 減価償却累計額: -6164\n",
      "    摘要: Office Building の減価償却 (90日)\n"
     ]
    }
   ],
   "source": [
    "from scripts.player import *\n",
    "\n",
    "# ゲームマスターを初期化\n",
    "game_master = GameMaster()\n",
    "\n",
    "# プレイヤーを作成して登録\n",
    "player = Player(name=\"Player1\", game_master=game_master)\n",
    "game_master.players.append(player)\n",
    "\n",
    "# 資産の生成と登録\n",
    "building_asset = game_master.construct_instance(\n",
    "    asset_type=\"building\",\n",
    "    name=\"Office Building\",\n",
    "    value=1000000,\n",
    "    address=\"Downtown City\"\n",
    ")\n",
    "\n",
    "# プレイヤーに建物資産を取得させる\n",
    "player.aquire_building(asset_id=building_asset[\"ID\"], value=1000000)\n",
    "\n",
    "# ゲーム内時間を進める\n",
    "print(\"\\n=== 90日進行 ===\")\n",
    "game_master.advance_time(days=90)\n",
    "\n",
    "# 資産の確認\n",
    "print(\"\\n=== プレイヤーのポートフォリオ ===\")\n",
    "for asset_info in player.portfolio:\n",
    "    asset = asset_info.get(\"instance\")\n",
    "    print(f\"資産名: {asset.name}, 帳簿価額: {int(asset.value)}, 累計減価償却額: {int(asset.accumulated_depreciation)}\")\n",
    "\n",
    "# 勘定元帳の記録を確認\n",
    "print(\"\\n=== プレイヤーの勘定元帳 ===\")\n",
    "player.ledger_manager.display_transaction_history()"
   ]
  }
 ],
 "metadata": {
  "kernelspec": {
   "display_name": ".venv",
   "language": "python",
   "name": "python3"
  },
  "language_info": {
   "codemirror_mode": {
    "name": "ipython",
    "version": 3
   },
   "file_extension": ".py",
   "mimetype": "text/x-python",
   "name": "python",
   "nbconvert_exporter": "python",
   "pygments_lexer": "ipython3",
   "version": "3.12.8"
  }
 },
 "nbformat": 4,
 "nbformat_minor": 2
}
