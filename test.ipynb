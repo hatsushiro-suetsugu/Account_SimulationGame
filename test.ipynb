{
 "cells": [
  {
   "cell_type": "code",
   "execution_count": null,
   "metadata": {},
   "outputs": [],
   "source": [
    "import json\n",
    "\n",
    "with open(\"essential_account.json\",\"r\",encoding=\"UTF-8\") as file:\n",
    "    data = json.load(file)\n",
    "    accounts = data[\"essential_accounts\"]\n",
    "\n",
    "for account in accounts:\n",
    "    print(account)\n",
    "    account[\"name\"]\n",
    "\n",
    "\n"
   ]
  },
  {
   "cell_type": "code",
   "execution_count": null,
   "metadata": {},
   "outputs": [],
   "source": [
    "import pandas as pd \n",
    "\n",
    "from scripts.player import *\n",
    "\n",
    "game_master = GameMaster()\n",
    "player1 = Player(\"player1\",game_master)\n",
    "ledger1 = player1.ledger_manager\n",
    "product_A = game_master.construct_instance(\"inventory\",\"product_A\").get(\"ID\")\n",
    "bilding_B = game_master.construct_instance(\"building\", \"building_B\", address=\"東京都品川区荏原3-7-13\").get(\"ID\")\n",
    "asset_list = list(game_master.asset_registry.keys())\n",
    "player1.redister_product(product_A)\n",
    "player1.aquire_building(bilding_B, 2000)\n",
    "\n",
    "player1.purchase_product(product_A, 100, 150)\n",
    "player1.purchase_product(product_A, 200, 120, 15)\n",
    "\n",
    "player1.sale_product(product_A, 80)\n",
    "\n",
    "end_1 = ledger1.execute_settlement()\n",
    "ledger1.display_transaction_history()\n",
    "\n",
    "player1.purchase_product(product_A, 30, 160)\n",
    "player1.sale_product(product_A, 100, 225)\n",
    "\n",
    "player1.sale_product(product_A, 100, 210, 500)\n",
    "\n",
    "player1.perform_inventory_audit(product_A)\n",
    "\n",
    "end_2 = ledger1.execute_settlement()\n",
    "\n",
    "ledger1.display_transaction_history()\n",
    "# ledger1.display_trial_balance(end_1)\n",
    "# ledger1.display_financial_statements(end_1)\n",
    "\n",
    "df = pd.DataFrame.from_dict(end_1, orient=\"index\")\n"
   ]
  },
  {
   "cell_type": "code",
   "execution_count": null,
   "metadata": {},
   "outputs": [],
   "source": [
    "ledger1.display_financial_statements(end_1)"
   ]
  },
  {
   "cell_type": "code",
   "execution_count": null,
   "metadata": {},
   "outputs": [],
   "source": [
    "inventory_c = game_master.construct_instance(\"inventory\", \"inventory_c\")\n",
    "type(inventory_c.get(\"class\"))\n"
   ]
  },
  {
   "cell_type": "code",
   "execution_count": null,
   "metadata": {},
   "outputs": [],
   "source": [
    "import pandas as pd \n",
    "\n",
    "from scripts.player import *\n",
    "\n",
    "game_master = GameMaster()\n",
    "player1 = Player(\"player1\",game_master)\n",
    "ledger1 = player1.ledger_manager\n",
    "\n",
    "building_B = game_master.construct_instance(\"building\")"
   ]
  },
  {
   "cell_type": "code",
   "execution_count": null,
   "metadata": {},
   "outputs": [],
   "source": [
    "from scripts.player import *\n",
    " # ゲームマスターを初期化\n",
    "game_master = GameMaster()\n",
    "\n",
    "# プレイヤーの初期化・登録\n",
    "player1 = Player(name=\"Player1\", game_master=game_master, initial_cash= 2000000)\n",
    "player2 = Player(name=\"Player2\", game_master=game_master, initial_cash= 2000000)\n",
    "game_master.players.append(player1)\n",
    "game_master.players.append(player2)\n",
    "\n",
    "# 資産の生成と登録\n",
    "building_1 = game_master.construct_instance(\n",
    "    asset_type=\"building\",\n",
    "    name=\"OfficeBuilding_1\",\n",
    "    value=1000000,\n",
    "    address=\"東京都新宿区早稲田鶴巻町\"\n",
    ")[\"ID\"]\n",
    "building_2 = game_master.construct_instance(\n",
    "    asset_type=\"building\",\n",
    "    name=\"OfficeBuilding_2\",\n",
    "    value=1500000,\n",
    "    address=\"東京都品川区荏原\"\n",
    ")[\"ID\"]\n",
    "product_A = game_master.construct_instance(\n",
    "    asset_type=\"inventory\",\n",
    "    name=\"product_A\"\n",
    ")[\"ID\"]\n",
    "product_B = game_master.construct_instance(\n",
    "    asset_type=\"inventory\",\n",
    "    name=\"product_B\"\n",
    ")[\"ID\"]\n",
    "\n",
    "# プレイヤーに資産を取得させる\n",
    "player1.aquire_building(asset_id=building_1, value=1000000)\n",
    "player2.aquire_building(asset_id=building_2, value=1500000)\n",
    "\n",
    "# プレイヤーに商品を登録させる\n",
    "player1.redister_product(product_id=product_A)\n",
    "player2.redister_product(product_id=product_B)\n",
    "\n",
    "# 商品を仕入れ、売り上げる\n",
    "player1.purchase_product(product_id=product_A, quantity= 500, price= 120)\n",
    "player2.purchase_product(product_id=product_B, quantity= 600, price= 80)\n",
    "\n",
    "player1.sale_product(product_id=product_A, quantity= 320, sales_price= 300)\n",
    "player2.sale_product(product_id=product_B, quantity= 500, sales_price= 210)\n",
    "\n",
    "player1.sale_product(product_id=product_A, quantity= 150, sales_price =250)\n",
    "player2.sale_product(product_id=product_B, quantity= 80) # 売価の更新なし\n",
    "\n",
    "# ゲーム内時間を90日進める\n",
    "print(\"\\n=== 時間を365日進めます ===\")\n",
    "game_master.advance_time(days=365)\n"
   ]
  },
  {
   "cell_type": "code",
   "execution_count": null,
   "metadata": {},
   "outputs": [],
   "source": [
    "# 資産の状態を表示\n",
    "print(\"\\n=== 資産の状態 ===\")\n",
    "for player in game_master.players:\n",
    "    for asset_info in player.portfolio:\n",
    "        asset_obj = game_master.get_asset_by_id(asset_info[\"ID\"])\n",
    "        if isinstance(asset_obj, asset.Tangible):\n",
    "            print(f\"プレイヤー名: {player.name}, 資産名: {asset_obj.name}, 帳簿価額: {int(asset_obj.value)}, 累計減価償却額: {int(asset_obj.accumulated_depreciation)}\")\n",
    "        if isinstance(asset_obj, asset.Inventory):\n",
    "            print(f\"プレイヤー名: {player.name}, 資産名: {asset_obj.name}, 帳簿価額: {int(asset_obj.value)}\")\n",
    "        "
   ]
  },
  {
   "cell_type": "code",
   "execution_count": null,
   "metadata": {},
   "outputs": [],
   "source": [
    "# 勘定元帳の記録を確認\n",
    "print(\"\\n=== プレイヤー1の勘定元帳 ===\")\n",
    "player1.ledger_manager.display_transaction_history()"
   ]
  },
  {
   "cell_type": "code",
   "execution_count": null,
   "metadata": {},
   "outputs": [],
   "source": [
    "# 勘定元帳の記録を確認\n",
    "print(\"\\n=== プレイヤー2の勘定元帳 ===\")\n",
    "player2.ledger_manager.display_transaction_history()"
   ]
  },
  {
   "cell_type": "code",
   "execution_count": null,
   "metadata": {},
   "outputs": [],
   "source": [
    "end_1 = [player1.ends[0],player2.ends[0]]\n",
    "player1.ledger_manager.display_financial_statements(end_1[0])"
   ]
  },
  {
   "cell_type": "code",
   "execution_count": null,
   "metadata": {},
   "outputs": [],
   "source": [
    "player2.ledger_manager.display_financial_statements(end_1[1])"
   ]
  },
  {
   "cell_type": "code",
   "execution_count": null,
   "metadata": {},
   "outputs": [],
   "source": [
    "from scripts.asset import *\n",
    "b = Building(name=\"Test Building\", value=100000, owner=None, address=\"Test Address\")\n",
    "print(isinstance(b, Tangible))  # True を期待"
   ]
  },
  {
   "cell_type": "code",
   "execution_count": null,
   "metadata": {},
   "outputs": [],
   "source": [
    "import scripts.asset\n",
    "print(asset_obj.__file__)\n"
   ]
  },
  {
   "cell_type": "code",
   "execution_count": null,
   "metadata": {},
   "outputs": [],
   "source": [
    "from scripts.player import *\n",
    "\n",
    "# ゲームマスターを初期化\n",
    "game_master = GameMaster()\n",
    "\n",
    "# プレイヤーを作成して登録\n",
    "player1 = Player(name=\"Player1\", game_master=game_master)\n",
    "game_master.players.append(player1)\n",
    "\n",
    "# 資産の生成と登録\n",
    "building_asset = game_master.construct_instance(\n",
    "    asset_type=\"building\",\n",
    "    name=\"Office Building\",\n",
    "    value=1000000,\n",
    "    address=\"Downtown City\"\n",
    ")\n",
    "\n",
    "# プレイヤーに建物資産を取得させる\n",
    "player1.aquire_building(asset_id=building_asset[\"ID\"], value=1000000)\n",
    "\n",
    "# ゲーム内時間を進める\n",
    "print(\"\\n=== 90日進行 ===\")\n",
    "game_master.advance_time(days=90)\n",
    "\n",
    "# 資産の確認\n",
    "print(\"\\n=== プレイヤーのポートフォリオ ===\")\n",
    "for asset_info in player1.portfolio:\n",
    "    asset_obj = asset_info.get(\"instance\")\n",
    "    print(f\"資産名: {asset_obj.name}, 帳簿価額: {int(asset_obj.value)}, 累計減価償却額: {int(asset_obj.accumulated_depreciation)}\")\n",
    "\n",
    "# 勘定元帳の記録を確認\n",
    "print(\"\\n=== プレイヤーの勘定元帳 ===\")\n",
    "player1.ledger_manager.display_transaction_history()"
   ]
  }
 ],
 "metadata": {
  "kernelspec": {
   "display_name": ".venv",
   "language": "python",
   "name": "python3"
  },
  "language_info": {
   "codemirror_mode": {
    "name": "ipython",
    "version": 3
   },
   "file_extension": ".py",
   "mimetype": "text/x-python",
   "name": "python",
   "nbconvert_exporter": "python",
   "pygments_lexer": "ipython3",
   "version": "3.12.8"
  }
 },
 "nbformat": 4,
 "nbformat_minor": 2
}
