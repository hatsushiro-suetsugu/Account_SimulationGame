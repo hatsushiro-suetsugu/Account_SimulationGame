{
 "cells": [
  {
   "cell_type": "code",
   "execution_count": null,
   "metadata": {},
   "outputs": [],
   "source": [
    "import json\n",
    "\n",
    "with open(\"essential_account.json\",\"r\",encoding=\"UTF-8\") as file:\n",
    "    data = json.load(file)\n",
    "    accounts = data[\"essential_accounts\"]\n",
    "\n",
    "for account in accounts:\n",
    "    print(account)\n",
    "    account[\"name\"]\n",
    "\n",
    "\n"
   ]
  },
  {
   "cell_type": "code",
   "execution_count": null,
   "metadata": {},
   "outputs": [],
   "source": [
    "import pandas as pd\n",
    "\n",
    "from player import *\n",
    "# サンプルコード\n",
    "game_master = GameMaster()\n",
    "player1 = Player(\"player1\",game_master)\n",
    "ledger1 = player1.ledger_manager\n",
    "player2 = Player(\"player2\",game_master)\n",
    "\n",
    "product_A = player1.redister_product(name=\"Product_A\")\n",
    "\n",
    "player1.purchase_product(product_A, 100, 150)\n",
    "player1.purchase_product(product_A, 200, 120, 15)\n",
    "player1.sale_product(product_A, 80, 200)\n",
    "player1.purchase_product(product_A, 30, 160)\n",
    "player1.sale_product(product_A, 100, 225)\n",
    "player1.sale_product(product_A, 100, 210, 500)\n",
    "\n",
    "player1.perform_inventory_audit(product_A, 5)\n",
    "\n",
    "end_1 = ledger1.execute_settlement()\n",
    "\n",
    "ledger1.display_transaction_history()\n",
    "ledger1.display_trial_balance(end_1)\n",
    "ledger1.display_financial_statements(end_1)\n",
    "\n",
    "df = pd.DataFrame.from_dict(end_1, orient=\"index\")\n",
    "df"
   ]
  },
  {
   "cell_type": "code",
   "execution_count": 6,
   "metadata": {},
   "outputs": [
    {
     "name": "stdout",
     "output_type": "stream",
     "text": [
      "資産 'product_A' (ID: 3c2c2be2-8ed0-4072-a5bf-7a757794b477, クラス: inventory) が登録されました。\n",
      "[player1]**商品が登録されました** 商品名：product_A\n"
     ]
    },
    {
     "ename": "TypeError",
     "evalue": "unsupported operand type(s) for *: 'int' and 'NoneType'",
     "output_type": "error",
     "traceback": [
      "\u001b[1;31m---------------------------------------------------------------------------\u001b[0m",
      "\u001b[1;31mTypeError\u001b[0m                                 Traceback (most recent call last)",
      "Cell \u001b[1;32mIn[6], line 16\u001b[0m\n\u001b[0;32m     13\u001b[0m player1\u001b[38;5;241m.\u001b[39mpurchase_product(product_A, \u001b[38;5;241m100\u001b[39m, \u001b[38;5;241m150\u001b[39m)\n\u001b[0;32m     14\u001b[0m player1\u001b[38;5;241m.\u001b[39mpurchase_product(product_A, \u001b[38;5;241m200\u001b[39m, \u001b[38;5;241m120\u001b[39m, \u001b[38;5;241m15\u001b[39m)\n\u001b[1;32m---> 16\u001b[0m \u001b[43mplayer1\u001b[49m\u001b[38;5;241;43m.\u001b[39;49m\u001b[43msale_product\u001b[49m\u001b[43m(\u001b[49m\u001b[43mproduct_A\u001b[49m\u001b[43m,\u001b[49m\u001b[43m \u001b[49m\u001b[38;5;241;43m80\u001b[39;49m\u001b[43m)\u001b[49m\n\u001b[0;32m     18\u001b[0m player1\u001b[38;5;241m.\u001b[39mpurchase_product(product_A, \u001b[38;5;241m30\u001b[39m, \u001b[38;5;241m160\u001b[39m)\n\u001b[0;32m     19\u001b[0m player1\u001b[38;5;241m.\u001b[39msale_product(product_A, \u001b[38;5;241m100\u001b[39m, \u001b[38;5;241m225\u001b[39m)\n",
      "File \u001b[1;32mc:\\Users\\hacch\\Box\\Personal\\Account_SimulationGame\\player.py:193\u001b[0m, in \u001b[0;36msale_product\u001b[1;34m(self, product, quantity, sales_price, revert)\u001b[0m\n\u001b[0;32m    191\u001b[0m product.add_inventory(quantity, price, fringe_cost)\n\u001b[0;32m    192\u001b[0m purchase_cost = quantity * price + fringe_cost\n\u001b[1;32m--> 193\u001b[0m # 仕入帳、勘定元帳への記入\n\u001b[0;32m    194\u001b[0m self.product_lists.append({\"name\": product.name, \"quantity\": purchase_cost})\n\u001b[0;32m    195\u001b[0m self.ledger_manager.execute_transaction([\n\u001b[0;32m    196\u001b[0m     (\"仕入\", purchase_cost),\n\u001b[0;32m    197\u001b[0m     (\"現金\", -purchase_cost)\n\u001b[0;32m    198\u001b[0m ], description=f\"商品の仕入れ　商品名：{product.name} 個数：{quantity} 単価：{price}\")\n",
      "\u001b[1;31mTypeError\u001b[0m: unsupported operand type(s) for *: 'int' and 'NoneType'"
     ]
    }
   ],
   "source": [
    "import pandas as pd \n",
    "\n",
    "from player import *\n",
    "\n",
    "game_master = GameMaster()\n",
    "player1 = Player(\"player1\",game_master)\n",
    "ledger1 = player1.ledger_manager\n",
    "product_A = game_master.construct_instance(\"inventory\",\"product_A\")\n",
    "asset_list = list(game_master.asset_registry.keys())\n",
    "product_A = product_A.get(\"instance\")\n",
    "player1.redister_product(asset_list[0])\n",
    "\n",
    "player1.purchase_product(product_A, 100, 150)\n",
    "player1.purchase_product(product_A, 200, 120, 15)\n",
    "\n",
    "player1.sale_product(product_A, 80)\n",
    "\n",
    "player1.purchase_product(product_A, 30, 160)\n",
    "player1.sale_product(product_A, 100, 225)\n",
    "\n",
    "player1.sale_product(product_A, 100, 210, 500)\n",
    "\n",
    "player1.perform_inventory_audit(product_A, 5)\n",
    "\n",
    "end_1 = ledger1.execute_settlement()\n",
    "\n",
    "ledger1.display_transaction_history()\n",
    "ledger1.display_trial_balance(end_1)\n",
    "ledger1.display_financial_statements(end_1)\n",
    "\n",
    "df = pd.DataFrame.from_dict(end_1, orient=\"index\")\n"
   ]
  },
  {
   "cell_type": "code",
   "execution_count": null,
   "metadata": {},
   "outputs": [],
   "source": [
    "ledger1.display_financial_statements(end_1)"
   ]
  },
  {
   "cell_type": "code",
   "execution_count": null,
   "metadata": {},
   "outputs": [],
   "source": [
    "import pandas as pd \n",
    "\n",
    "from player import *\n",
    "\n",
    "game_master = GameMaster()\n",
    "player1 = Player(\"player1\",game_master)\n",
    "ledger1 = player1.ledger_manager\n",
    "\n",
    "building_B = game_master.construct_instance(\"building\")"
   ]
  },
  {
   "cell_type": "code",
   "execution_count": null,
   "metadata": {},
   "outputs": [],
   "source": [
    "from asset import *\n",
    "\n",
    "building_A = Building(\"building_A\", 5000, \"player1\", \"東京都新宿区\")\n",
    "building_A.apply_depreciation()"
   ]
  },
  {
   "cell_type": "code",
   "execution_count": 1,
   "metadata": {},
   "outputs": [],
   "source": [
    "from tkinter import messagebox\n",
    "\n",
    "#引数に('タイトル', '内容')を記載\n",
    "\n",
    "ret = messagebox.askyesno('確認', '処理を開始しますか？')   #「はい」、「いいえ」を選択\n",
    "if ret:    #「はい」を選択した場合はTrue\n",
    "    messagebox.showinfo('メッセージ', 'はいを選択しました')    #「情報」のメッセージボックスを表示\n",
    "else:    #「いいえ」を選択した場合はFalse\n",
    "    messagebox.showwarning('メッセージ', 'いいえを選択しました')    #「警告」のメッセージボックス\n"
   ]
  }
 ],
 "metadata": {
  "kernelspec": {
   "display_name": "Python 3",
   "language": "python",
   "name": "python3"
  },
  "language_info": {
   "codemirror_mode": {
    "name": "ipython",
    "version": 3
   },
   "file_extension": ".py",
   "mimetype": "text/x-python",
   "name": "python",
   "nbconvert_exporter": "python",
   "pygments_lexer": "ipython3",
   "version": "3.12.8"
  }
 },
 "nbformat": 4,
 "nbformat_minor": 2
}
