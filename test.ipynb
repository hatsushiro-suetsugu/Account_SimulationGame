{
 "cells": [
  {
   "cell_type": "code",
   "execution_count": null,
   "metadata": {},
   "outputs": [],
   "source": [
    "import json\n",
    "\n",
    "with open(\"essential_account.json\",\"r\",encoding=\"UTF-8\") as file:\n",
    "    data = json.load(file)\n",
    "    accounts = data[\"essential_accounts\"]\n",
    "\n",
    "for account in accounts:\n",
    "    print(account)\n",
    "    account[\"name\"]\n",
    "\n",
    "\n"
   ]
  },
  {
   "cell_type": "code",
   "execution_count": 1,
   "metadata": {},
   "outputs": [
    {
     "name": "stdout",
     "output_type": "stream",
     "text": [
      "資産 'product_A' (ID: 3461bcb4-3bd3-45cd-87d7-e593144153f1, クラス: <class 'asset.Inventory'>) が登録されました。\n",
      "[player1]**商品が登録されました** 商品名：product_A\n",
      "[player1,product_A]**売価が更新されました**　更新後：225\n",
      "[player1,product_A]**売価が更新されました**　更新後：210\n",
      "\n",
      "\n",
      "取引一覧:\n",
      "\n",
      "  [ゲーム内時間]\n",
      "    仕訳: 現金: 5000, 資本金: -5000\n",
      "    摘要: Initial capital\n",
      "  [ゲーム内時間]\n",
      "    仕訳: 仕入: 15000, 現金: -15000\n",
      "    摘要: 商品の仕入れ　商品名：product_A 個数：100 単価：150\n",
      "  [ゲーム内時間]\n",
      "    仕訳: 仕入: 24015, 現金: -24015\n",
      "    摘要: 商品の仕入れ　商品名：product_A 個数：200 単価：120\n",
      "  [ゲーム内時間]\n",
      "    仕訳: 現金: 0, 売上高: 0\n",
      "    摘要: 商品の売上 商品名：product_A 個数：80 単価：0\n",
      "  [ゲーム内時間]\n",
      "    仕訳: 仕入: 4800, 現金: -4800\n",
      "    摘要: 商品の仕入れ　商品名：product_A 個数：30 単価：160\n",
      "  [ゲーム内時間]\n",
      "    仕訳: 現金: 22500, 売上高: -22500\n",
      "    摘要: 商品の売上 商品名：product_A 個数：100 単価：225\n",
      "  [ゲーム内時間]\n",
      "    仕訳: 現金: 20500, 売上高: -20500\n",
      "    摘要: 商品の売上 商品名：product_A 個数：100 単価：210\n",
      "  [ゲーム内時間]\n",
      "    仕訳: 売上原価: 34565, 仕入: -43815, 棚卸減耗: 0, 商品評価損: 0, 棚卸資産: 9250\n",
      "    摘要: 棚卸調整 商品: product_A\n"
     ]
    }
   ],
   "source": [
    "import pandas as pd \n",
    "\n",
    "from player import *\n",
    "\n",
    "game_master = GameMaster()\n",
    "player1 = Player(\"player1\",game_master)\n",
    "ledger1 = player1.ledger_manager\n",
    "product_A = game_master.construct_instance(\"inventory\",\"product_A\").get(\"ID\")\n",
    "asset_list = list(game_master.asset_registry.keys())\n",
    "player1.redister_product(product_A)\n",
    "\n",
    "player1.purchase_product(product_A, 100, 150)\n",
    "player1.purchase_product(product_A, 200, 120, 15)\n",
    "\n",
    "player1.sale_product(product_A, 80)\n",
    "\n",
    "player1.purchase_product(product_A, 30, 160)\n",
    "player1.sale_product(product_A, 100, 225)\n",
    "\n",
    "player1.sale_product(product_A, 100, 210, 500)\n",
    "\n",
    "player1.perform_inventory_audit(product_A)\n",
    "\n",
    "end_1 = ledger1.execute_settlement()\n",
    "\n",
    "ledger1.display_transaction_history()\n",
    "# ledger1.display_trial_balance(end_1)\n",
    "# ledger1.display_financial_statements(end_1)\n",
    "\n",
    "df = pd.DataFrame.from_dict(end_1, orient=\"index\")\n"
   ]
  },
  {
   "cell_type": "code",
   "execution_count": 2,
   "metadata": {},
   "outputs": [
    {
     "name": "stdout",
     "output_type": "stream",
     "text": [
      "\n",
      "=== 貸借対照表 ===\n",
      "資産:\n",
      "  流動資産:\n",
      "        現金: 4185\n",
      "        棚卸資産: 9250\n",
      "  固定資産:\n",
      "  繰延資産:\n",
      "負債:\n",
      "  流動負債:\n",
      "  固定負債:\n",
      "純資産:\n",
      "  株主資本:\n",
      "        資本金: (5000)\n",
      "  評価・換算差額:\n",
      "\n",
      "=== 損益計算書 ===\n",
      "収益:\n",
      "  営業収益:\n",
      "        売上高: (43000)\n",
      "  営業外収益:\n",
      "費用:\n",
      "  営業費用:\n",
      "        売上原価: 34565\n",
      "  営業外費用:\n",
      "\n",
      "当期純利益: 8,435\n"
     ]
    }
   ],
   "source": [
    "ledger1.display_financial_statements(end_1)"
   ]
  },
  {
   "cell_type": "code",
   "execution_count": 4,
   "metadata": {},
   "outputs": [
    {
     "name": "stdout",
     "output_type": "stream",
     "text": [
      "資産 'inventory_c' (ID: f06b0cdf-4b83-4f4c-b3ae-4b372e7f2641, クラス: <class 'asset.Inventory'>) が登録されました。\n"
     ]
    },
    {
     "data": {
      "text/plain": [
       "type"
      ]
     },
     "execution_count": 4,
     "metadata": {},
     "output_type": "execute_result"
    }
   ],
   "source": [
    "inventory_c = game_master.construct_instance(\"inventory\", \"inventory_c\")\n",
    "type(inventory_c.get(\"class\"))\n"
   ]
  },
  {
   "cell_type": "code",
   "execution_count": null,
   "metadata": {},
   "outputs": [],
   "source": [
    "import pandas as pd \n",
    "\n",
    "from player import *\n",
    "\n",
    "game_master = GameMaster()\n",
    "player1 = Player(\"player1\",game_master)\n",
    "ledger1 = player1.ledger_manager\n",
    "\n",
    "building_B = game_master.construct_instance(\"building\")"
   ]
  },
  {
   "cell_type": "code",
   "execution_count": null,
   "metadata": {},
   "outputs": [],
   "source": [
    "from asset import *\n",
    "\n",
    "building_A = Building(\"building_A\", 5000, \"player1\", \"東京都新宿区\")\n",
    "building_A.apply_depreciation()"
   ]
  }
 ],
 "metadata": {
  "kernelspec": {
   "display_name": ".venv",
   "language": "python",
   "name": "python3"
  },
  "language_info": {
   "codemirror_mode": {
    "name": "ipython",
    "version": 3
   },
   "file_extension": ".py",
   "mimetype": "text/x-python",
   "name": "python",
   "nbconvert_exporter": "python",
   "pygments_lexer": "ipython3",
   "version": "3.12.8"
  }
 },
 "nbformat": 4,
 "nbformat_minor": 2
}
